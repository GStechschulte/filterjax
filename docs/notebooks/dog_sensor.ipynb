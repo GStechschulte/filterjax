{
 "cells": [
  {
   "cell_type": "markdown",
   "metadata": {},
   "source": [
    "# Kalman Filter"
   ]
  },
  {
   "cell_type": "code",
   "execution_count": 1,
   "metadata": {},
   "outputs": [],
   "source": [
    "from collections import namedtuple\n",
    "from functools import partial\n",
    "\n",
    "import matplotlib.pyplot as plt\n",
    "import jax\n",
    "import jax.numpy as jnp\n",
    "import jax.scipy as jsp\n",
    "\n",
    "from filterjax import KalmanFilter, KalmanFilterV2, KalmanParams\n",
    "\n",
    "%load_ext autoreload\n",
    "%autoreload 2"
   ]
  },
  {
   "cell_type": "code",
   "execution_count": 129,
   "metadata": {},
   "outputs": [],
   "source": [
    "class DogSensor:\n",
    "\n",
    "    def __init__(self, key, x0=0, velocity=1, noise=0.0):\n",
    "        self.key = key\n",
    "        self.x = jnp.array(x0)\n",
    "        self.velocity = jnp.array(velocity)\n",
    "        self.noise = jnp.sqrt(noise)\n",
    "\n",
    "    def sense(self, shape: tuple = (1,)):\n",
    "        x = []\n",
    "        for _ in range(shape[0]):\n",
    "            self.x += self.velocity\n",
    "            x.append(self.x)\n",
    "    \n",
    "        return jnp.array(x) + jax.random.normal(self.key, shape) * self.noise"
   ]
  },
  {
   "cell_type": "code",
   "execution_count": 131,
   "metadata": {},
   "outputs": [],
   "source": [
    "movement = 1\n",
    "movement_error = 2\n",
    "sensor_error = 10\n",
    "pos = (0, 500)\n",
    "\n",
    "key = jax.random.PRNGKey(0)\n",
    "dog = DogSensor(key, x0=pos[0], velocity=movement, noise=sensor_error)\n",
    "measurements = dog.sense((50,))"
   ]
  },
  {
   "cell_type": "code",
   "execution_count": 4,
   "metadata": {},
   "outputs": [],
   "source": [
    "def Q_DWPA(dim, dt=1., sigma=1.):\n",
    "    assert dim == 2 or dim == 3\n",
    "    if dim == 2:\n",
    "        Q = jnp.array([[.25*dt**4, .5*dt**3],\n",
    "                    [ .5*dt**3,    dt**2]], dtype=float)\n",
    "    else:\n",
    "        Q = jnp.array([[.25*dt**4, .5*dt**3, .5*dt**2],\n",
    "                    [ .5*dt**3,    dt**2,       dt],\n",
    "                    [ .5*dt**2,       dt,        1]], dtype=float)\n",
    "    return Q * sigma"
   ]
  },
  {
   "cell_type": "code",
   "execution_count": 119,
   "metadata": {},
   "outputs": [],
   "source": [
    "params = KalmanParams(\n",
    "    F = jnp.array([[1, 1], [0, 1]]),\n",
    "    H = jnp.array([[1, 0]]),\n",
    "    Q = Q_DWPA(2, sigma=0.),\n",
    "    R = jnp.eye(1) * 5,\n",
    "    P = jnp.eye(2) * 500.,\n",
    "    x = jnp.array([[0.], [0.]])\n",
    ")"
   ]
  },
  {
   "cell_type": "code",
   "execution_count": 134,
   "metadata": {},
   "outputs": [],
   "source": [
    "kf = KalmanFilter(dim_x=2, dim_z=1)\n",
    "params = kf.initialize(params)\n",
    "xs, ps = kf.filter(params, measurements)\n",
    "\n",
    "pos = [x[0] for x in xs]\n",
    "velocity = [x[1] for x in xs]"
   ]
  },
  {
   "cell_type": "code",
   "execution_count": 135,
   "metadata": {},
   "outputs": [
    {
     "data": {
      "image/png": "[encoded data removed]",
      "text/plain": [
       "<Figure size 600x200 with 1 Axes>"
      ]
     },
     "metadata": {},
     "output_type": "display_data"
    }
   ],
   "source": [
    "plt.figure(figsize=(6, 2))\n",
    "plt.plot(jnp.arange(0, len(measurements), 1), measurements, label=\"dog position\")\n",
    "plt.plot(\n",
    "    jnp.arange(0, len(measurements), 1), pos, label=\"filter\", linestyle=\"--\",\n",
    "    color=\"black\"\n",
    ")\n",
    "plt.legend(loc=\"best\")\n",
    "plt.show()"
   ]
  }
 ],
 "metadata": {
  "kernelspec": {
   "display_name": "filterjax",
   "language": "python",
   "name": "python3"
  },
  "language_info": {
   "codemirror_mode": {
    "name": "ipython",
    "version": 3
   },
   "file_extension": ".py",
   "mimetype": "text/x-python",
   "name": "python",
   "nbconvert_exporter": "python",
   "pygments_lexer": "ipython3",
   "version": "3.11.4"
  },
  "orig_nbformat": 4
 },
 "nbformat": 4,
 "nbformat_minor": 2
}
